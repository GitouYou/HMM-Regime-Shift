{
 "cells": [
  {
   "cell_type": "code",
   "execution_count": 9,
   "metadata": {},
   "outputs": [
    {
     "ename": "ModuleNotFoundError",
     "evalue": "No module named 'catalyst.utils.run_algo'",
     "output_type": "error",
     "traceback": [
      "\u001b[1;31m---------------------------------------------------------------------------\u001b[0m",
      "\u001b[1;31mModuleNotFoundError\u001b[0m                       Traceback (most recent call last)",
      "\u001b[1;32m<ipython-input-9-abb808d8e86f>\u001b[0m in \u001b[0;36m<module>\u001b[1;34m\u001b[0m\n\u001b[0;32m      7\u001b[0m \u001b[1;32mimport\u001b[0m \u001b[0mdatetime\u001b[0m\u001b[1;33m\u001b[0m\u001b[0m\n\u001b[0;32m      8\u001b[0m \u001b[1;32mimport\u001b[0m \u001b[0mseaborn\u001b[0m \u001b[1;32mas\u001b[0m \u001b[0msns\u001b[0m\u001b[1;33m\u001b[0m\u001b[0m\n\u001b[1;32m----> 9\u001b[1;33m \u001b[1;32mfrom\u001b[0m \u001b[0mcatalyst\u001b[0m\u001b[1;33m.\u001b[0m\u001b[0mutils\u001b[0m\u001b[1;33m.\u001b[0m\u001b[0mrun_algo\u001b[0m \u001b[1;32mimport\u001b[0m \u001b[0mrun_algorithm\u001b[0m\u001b[1;33m\u001b[0m\u001b[0m\n\u001b[0m\u001b[0;32m     10\u001b[0m \u001b[1;32mfrom\u001b[0m \u001b[0mcatalyst\u001b[0m\u001b[1;33m.\u001b[0m\u001b[0mapi\u001b[0m \u001b[1;32mimport\u001b[0m \u001b[1;33m(\u001b[0m\u001b[0mrecord\u001b[0m\u001b[1;33m,\u001b[0m \u001b[0msymbol\u001b[0m\u001b[1;33m,\u001b[0m \u001b[0morder_target_percent\u001b[0m\u001b[1;33m,\u001b[0m \u001b[0mdate_rules\u001b[0m\u001b[1;33m,\u001b[0m \u001b[0mtime_rules\u001b[0m\u001b[1;33m,\u001b[0m \u001b[0mget_datetime\u001b[0m\u001b[1;33m)\u001b[0m\u001b[1;33m\u001b[0m\u001b[0m\n\u001b[0;32m     11\u001b[0m \u001b[1;33m\u001b[0m\u001b[0m\n",
      "\u001b[1;31mModuleNotFoundError\u001b[0m: No module named 'catalyst.utils.run_algo'"
     ]
    }
   ],
   "source": [
    "\n",
    "import matplotlib.pyplot as plt\n",
    "import numpy as np\n",
    "import pandas as pd\n",
    "import joblib\n",
    "from hmmlearn.hmm import GaussianHMM\n",
    "import datetime\n",
    "import seaborn as sns\n",
    "from catalyst. import run_algorithm\n",
    "from catalyst.api import (record, symbol, order_target_percent, date_rules, time_rules, get_datetime)\n",
    "\n",
    "def warn(*args, **kwargs):\n",
    "    pass\n",
    "\n",
    "import warnings\n",
    "warnings.warn = warn\n"
   ]
  },
  {
   "cell_type": "code",
   "execution_count": 10,
   "metadata": {},
   "outputs": [],
   "source": [
    "# Normalized st. deviation\n",
    "def std_normalized(vals):\n",
    "    return np.std(vals) / np.mean(vals)\n",
    "\n",
    "# Ratio of diff between last price and mean value to last price\n",
    "def ma_ratio(vals):\n",
    "    return (vals[-1] - np.mean(vals)) / vals[-1]\n",
    "\n",
    "# z-score for volumes\n",
    "def values_deviation(vals):\n",
    "    return (vals[-1] - np.mean(vals)) / np.std(vals)"
   ]
  },
  {
   "cell_type": "code",
   "execution_count": null,
   "metadata": {},
   "outputs": [],
   "source": []
  },
  {
   "cell_type": "code",
   "execution_count": null,
   "metadata": {},
   "outputs": [],
   "source": [
    "def initialize(context):\n",
    "    context.asset = symbol('btc_usd')\n",
    "    context.leverage = 1.0\n",
    "\n",
    "    context.std_period = 10\n",
    "    context.ma_period = 10\n",
    "    context.price_deviation_period = 10\n",
    "    context.volume_deviation_period = 10\n",
    "    context.n_periods = 5 + int(np.max([context.std_period, context.ma_period,\n",
    "        context.price_deviation_period, context.volume_deviation_period]))\n",
    "    context.tf = '1440T'\n",
    "\n",
    "    context.model = joblib.load('quandl_BITFINEX_BTCUSD_final_model.pkl')\n",
    "    context.cols_features = ['last_return', 'std_normalized', 'ma_ratio', 'price_deviation', 'volume_deviation']\n",
    "    context.long_states = [2]\n",
    "    context.random_states = [1]\n",
    "    context.short_states = [0]\n",
    "\n",
    "    context.set_commission(maker = 0.001, taker = 0.002)\n",
    "    context.set_slippage(slippage = 0.0005)\n",
    "    context.set_benchmark(context.asset)"
   ]
  },
  {
   "cell_type": "code",
   "execution_count": 11,
   "metadata": {},
   "outputs": [],
   "source": [
    "\n",
    "def handle_data(context, data):\n",
    "    current_date = get_datetime().date()\n",
    "    current_time = get_datetime().time()\n",
    "\n",
    "    # Just one time in a day (first minute)\n",
    "    if current_time.hour == 0 and current_time.minute == 0 and current_time.second == 0:\n",
    "        prices = pd.DataFrame()\n",
    "        volumes = pd.DataFrame()\n",
    "\n",
    "        try:\n",
    "            prices = data.history(context.asset,\n",
    "                fields = 'price',\n",
    "                bar_count = context.n_periods,\n",
    "                frequency = context.tf)\n",
    "\n",
    "            volumes = data.history(context.asset,\n",
    "                fields = 'volume',\n",
    "                bar_count = context.n_periods,\n",
    "                frequency = context.tf)\n",
    "        except:\n",
    "            print('NO DATA')\n",
    "\n",
    "        if prices.shape[0] == context.n_periods and volumes.shape[0] == context.n_periods:\n",
    "            features = pd.DataFrame()\n",
    "            features['price'] = prices\n",
    "            features['volume'] = volumes\n",
    "            features['last_return'] = features['price'].pct_change()\n",
    "            features['std_normalized'] = features['price'].rolling(context.std_period).apply(std_normalized)\n",
    "            features['ma_ratio'] = features['price'].rolling(context.ma_period).apply(ma_ratio)\n",
    "            features['price_deviation'] = features['price'].rolling(context.price_deviation_period).apply(values_deviation)\n",
    "            features['volume_deviation'] = features['volume'].rolling(context.volume_deviation_period).apply(values_deviation)\n",
    "\n",
    "            state = context.random_states[0]\n",
    "            if features.dropna().shape[0] == (context.n_periods - context.ma_period + 1):\n",
    "                state = int(context.model.predict(features[context.cols_features].dropna())[-1])\n",
    "            else:\n",
    "                print('PROBLEM: features dataframe is too small')\n",
    "\n",
    "            print('State on ' + str(current_date) + ' ' + str(current_time) + ': ' + str(state))\n",
    "        \n",
    "            print('Amount on ' + str(current_date) + ' ' + str(current_time) + ': ' + str(context.portfolio.positions[context.asset].amount))\n",
    "            print(prices.dropna())\n",
    "            print(volumes.dropna())\n",
    "\n",
    "            if context.portfolio.positions[context.asset].amount <= 0 and state in context.long_states:\n",
    "                print('LONG on ' + str(current_date) + ' ' + str(current_time))\n",
    "                order_target_percent(context.asset, 1.0 * context.leverage)\n",
    "                context.best_price_ts = data.current(context.asset, 'close')\n",
    "\n",
    "            if context.portfolio.positions[context.asset].amount != 0 and state in context.random_states:\n",
    "                print('CLOSE on ' + str(current_date) + ' ' + str(current_time))\n",
    "                order_target_percent(context.asset, 0.0)\n",
    "\n",
    "            if context.portfolio.positions[context.asset].amount >= 0 and state in context.short_states:\n",
    "                print('SHORT on ' + str(current_date) + ' ' + str(current_time))\n",
    "                order_target_percent(context.asset, -1.0 * context.leverage)   \n",
    "                context.best_price_ts = data.current(context.asset, 'close')   \n",
    "\n",
    "            record(price = prices[-1],\n",
    "                state = state,\n",
    "                amount = context.portfolio.positions[context.asset].amount)\n"
   ]
  },
  {
   "cell_type": "code",
   "execution_count": 12,
   "metadata": {},
   "outputs": [],
   "source": [
    "\n",
    "def analyze(context, perf):\n",
    "    sns.set()\n",
    "\n",
    "    # Summary output\n",
    "    print(\"Total return: \" + str(perf.algorithm_period_return[-1]))\n",
    "    print(\"Sortino coef: \" + str(perf.sortino[-1]))\n",
    "    print(\"Max drawdown: \" + str(np.min(perf.max_drawdown[-1])))\n",
    "    print(\"alpha: \" + str(perf.alpha[-1]))\n",
    "    print(\"beta: \" + str(perf.beta[-1]))\n",
    "\n",
    "    f = plt.figure(figsize = (7.2, 7.2))\n",
    "\n",
    "    # Plot return\n",
    "    ax1 = f.add_subplot(211)\n",
    "    ax1.plot(perf.algorithm_period_return, 'blue')\n",
    "    ax1.plot(perf.benchmark_period_return, 'red')\n",
    "    ax1.legend()\n",
    "    ax1.set_title(\"Returns\")\n",
    "    ax1.set_xlabel('Time')\n",
    "    ax1.set_ylabel('Value')\n",
    "\n",
    "    # Plot state\n",
    "    ax2 = f.add_subplot(212, sharex = ax1)\n",
    "    ax2.plot(perf.state, 'grey')\n",
    "    ax2.set_title(\"State\")\n",
    "    ax2.set_xlabel('Time')\n",
    "    ax2.set_ylabel('Value')\n",
    "\n",
    "    plt.tight_layout()\n",
    "    plt.show()\n"
   ]
  },
  {
   "cell_type": "code",
   "execution_count": 13,
   "metadata": {},
   "outputs": [
    {
     "ename": "NameError",
     "evalue": "name 'run_algorithm' is not defined",
     "output_type": "error",
     "traceback": [
      "\u001b[1;31m---------------------------------------------------------------------------\u001b[0m",
      "\u001b[1;31mNameError\u001b[0m                                 Traceback (most recent call last)",
      "\u001b[1;32m<ipython-input-13-2051a7fd0f27>\u001b[0m in \u001b[0;36m<module>\u001b[1;34m\u001b[0m\n\u001b[1;32m----> 1\u001b[1;33m run_algorithm(\n\u001b[0m\u001b[0;32m      2\u001b[0m     \u001b[0mcapital_base\u001b[0m \u001b[1;33m=\u001b[0m \u001b[1;36m100000\u001b[0m\u001b[1;33m,\u001b[0m\u001b[1;33m\u001b[0m\u001b[0m\n\u001b[0;32m      3\u001b[0m     \u001b[0mdata_frequency\u001b[0m \u001b[1;33m=\u001b[0m \u001b[1;34m'minute'\u001b[0m\u001b[1;33m,\u001b[0m\u001b[1;33m\u001b[0m\u001b[0m\n\u001b[0;32m      4\u001b[0m     \u001b[0minitialize\u001b[0m \u001b[1;33m=\u001b[0m \u001b[0minitialize\u001b[0m\u001b[1;33m,\u001b[0m\u001b[1;33m\u001b[0m\u001b[0m\n\u001b[0;32m      5\u001b[0m     \u001b[0mhandle_data\u001b[0m \u001b[1;33m=\u001b[0m \u001b[0mhandle_data\u001b[0m\u001b[1;33m,\u001b[0m\u001b[1;33m\u001b[0m\u001b[0m\n",
      "\u001b[1;31mNameError\u001b[0m: name 'run_algorithm' is not defined"
     ]
    }
   ],
   "source": [
    "run_algorithm(\n",
    "    capital_base = 100000,\n",
    "    data_frequency = 'minute',\n",
    "    initialize = initialize,\n",
    "    handle_data = handle_data,\n",
    "    analyze = analyze,\n",
    "    exchange_name = 'bitfinex',\n",
    "    quote_currency = 'usd',\n",
    "    start = pd.to_datetime('2018-1-1', utc = True),\n",
    "    end = pd.to_datetime('2019-5-22', utc = True))"
   ]
  },
  {
   "cell_type": "code",
   "execution_count": null,
   "metadata": {},
   "outputs": [],
   "source": []
  }
 ],
 "metadata": {
  "kernelspec": {
   "display_name": "Python 3",
   "language": "python",
   "name": "python3"
  },
  "language_info": {
   "codemirror_mode": {
    "name": "ipython",
    "version": 3
   },
   "file_extension": ".py",
   "mimetype": "text/x-python",
   "name": "python",
   "nbconvert_exporter": "python",
   "pygments_lexer": "ipython3",
   "version": "3.7.0"
  }
 },
 "nbformat": 4,
 "nbformat_minor": 2
}
